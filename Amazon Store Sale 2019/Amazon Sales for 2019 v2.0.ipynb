{
 "cells": [
  {
   "cell_type": "markdown",
   "id": "04b28630",
   "metadata": {},
   "source": [
    "## Amazon Sales Data for 2019 (Project Completed in 2021) ##"
   ]
  },
  {
   "cell_type": "code",
   "execution_count": 1,
   "id": "3a6bc8f5",
   "metadata": {},
   "outputs": [],
   "source": [
    "# import necessary libraries to be used.\n",
    "import pandas as pd"
   ]
  },
  {
   "cell_type": "code",
   "execution_count": 2,
   "id": "1398b70f",
   "metadata": {},
   "outputs": [],
   "source": [
    "# read in 2019 sales data set.\n",
    "\n",
    "jan_2019 = pd.read_csv(r\"****\\Sales Project\\Sales_January_2021.csv\")\n",
    "feb_2019 = pd.read_csv(r\"****\\Sales Project\\Sales_February_2021.csv\")\n",
    "mar_2019 = pd.read_csv(r\"****\\Sales Project\\Sales_March_2021.csv\")\n",
    "apr_2019 = pd.read_csv(r\"****\\Sales Project\\Sales_April_2021.csv\")\n",
    "may_2019 = pd.read_csv(r\"****\\Sales Project\\Sales_May_2021.csv\")\n",
    "jun_2019 = pd.read_csv(r\"****\\Sales Project\\Sales_June_2021.csv\")\n",
    "jul_2019 = pd.read_csv(r\"****\\Sales Project\\Sales_July_2021.csv\")\n",
    "aug_2019 = pd.read_csv(r\"****\\Sales Project\\Sales_August_2021.csv\")\n",
    "sep_2019 = pd.read_csv(r\"****\\Sales Project\\Sales_September_2021.csv\")\n",
    "oct_2019 = pd.read_csv(r\"****\\Sales Project\\Sales_October_2021.csv\")\n",
    "nov_2019 = pd.read_csv(r\"****\\Sales Project\\Sales_November_2021.csv\")\n",
    "dec_2019 = pd.read_csv(r\"****\\Sales Project\\Sales_December_2021.csv\")"
   ]
  },
  {
   "cell_type": "code",
   "execution_count": 3,
   "id": "eb02e8df",
   "metadata": {
    "scrolled": true
   },
   "outputs": [
    {
     "data": {
      "text/html": [
       "<div>\n",
       "<style scoped>\n",
       "    .dataframe tbody tr th:only-of-type {\n",
       "        vertical-align: middle;\n",
       "    }\n",
       "\n",
       "    .dataframe tbody tr th {\n",
       "        vertical-align: top;\n",
       "    }\n",
       "\n",
       "    .dataframe thead th {\n",
       "        text-align: right;\n",
       "    }\n",
       "</style>\n",
       "<table border=\"1\" class=\"dataframe\">\n",
       "  <thead>\n",
       "    <tr style=\"text-align: right;\">\n",
       "      <th></th>\n",
       "      <th>Order ID</th>\n",
       "      <th>Product</th>\n",
       "      <th>Quantity Ordered</th>\n",
       "      <th>Price Each</th>\n",
       "      <th>Order Date</th>\n",
       "      <th>Purchase Address</th>\n",
       "    </tr>\n",
       "  </thead>\n",
       "  <tbody>\n",
       "    <tr>\n",
       "      <th>0</th>\n",
       "      <td>141234</td>\n",
       "      <td>iPhone</td>\n",
       "      <td>1</td>\n",
       "      <td>700</td>\n",
       "      <td>01/22/19 21:25</td>\n",
       "      <td>944 Walnut St, Boston, MA 02215</td>\n",
       "    </tr>\n",
       "    <tr>\n",
       "      <th>1</th>\n",
       "      <td>141235</td>\n",
       "      <td>Lightning Charging Cable</td>\n",
       "      <td>1</td>\n",
       "      <td>14.95</td>\n",
       "      <td>01/28/19 14:15</td>\n",
       "      <td>185 Maple St, Portland, OR 97035</td>\n",
       "    </tr>\n",
       "    <tr>\n",
       "      <th>2</th>\n",
       "      <td>141236</td>\n",
       "      <td>Wired Headphones</td>\n",
       "      <td>2</td>\n",
       "      <td>11.99</td>\n",
       "      <td>01/17/19 13:33</td>\n",
       "      <td>538 Adams St, San Francisco, CA 94016</td>\n",
       "    </tr>\n",
       "    <tr>\n",
       "      <th>3</th>\n",
       "      <td>141237</td>\n",
       "      <td>27in FHD Monitor</td>\n",
       "      <td>1</td>\n",
       "      <td>149.99</td>\n",
       "      <td>01/05/19 20:33</td>\n",
       "      <td>738 10th St, Los Angeles, CA 90001</td>\n",
       "    </tr>\n",
       "    <tr>\n",
       "      <th>4</th>\n",
       "      <td>141238</td>\n",
       "      <td>Wired Headphones</td>\n",
       "      <td>1</td>\n",
       "      <td>11.99</td>\n",
       "      <td>01/25/19 11:59</td>\n",
       "      <td>387 10th St, Austin, TX 73301</td>\n",
       "    </tr>\n",
       "  </tbody>\n",
       "</table>\n",
       "</div>"
      ],
      "text/plain": [
       "  Order ID                   Product Quantity Ordered Price Each  \\\n",
       "0   141234                    iPhone                1        700   \n",
       "1   141235  Lightning Charging Cable                1      14.95   \n",
       "2   141236          Wired Headphones                2      11.99   \n",
       "3   141237          27in FHD Monitor                1     149.99   \n",
       "4   141238          Wired Headphones                1      11.99   \n",
       "\n",
       "       Order Date                       Purchase Address  \n",
       "0  01/22/19 21:25        944 Walnut St, Boston, MA 02215  \n",
       "1  01/28/19 14:15       185 Maple St, Portland, OR 97035  \n",
       "2  01/17/19 13:33  538 Adams St, San Francisco, CA 94016  \n",
       "3  01/05/19 20:33     738 10th St, Los Angeles, CA 90001  \n",
       "4  01/25/19 11:59          387 10th St, Austin, TX 73301  "
      ]
     },
     "execution_count": 3,
     "metadata": {},
     "output_type": "execute_result"
    }
   ],
   "source": [
    "# take a quick glimpse of a data set\n",
    "jan_2019.head()"
   ]
  },
  {
   "cell_type": "code",
   "execution_count": 4,
   "id": "08a0d188",
   "metadata": {},
   "outputs": [],
   "source": [
    "# Create a list of the sales data frames\n",
    "dflist = [jan_2019, feb_2019 ,mar_2019, apr_2019, may_2019,\n",
    "          jun_2019, jul_2019, aug_2019, sep_2019, oct_2019, \n",
    "          nov_2019, dec_2019]"
   ]
  },
  {
   "cell_type": "code",
   "execution_count": 5,
   "id": "1ccaa640",
   "metadata": {
    "scrolled": true
   },
   "outputs": [
    {
     "name": "stdout",
     "output_type": "stream",
     "text": [
      "Order ID            object\n",
      "Product             object\n",
      "Quantity Ordered    object\n",
      "Price Each          object\n",
      "Order Date          object\n",
      "Purchase Address    object\n",
      "dtype: object\n",
      "Order ID            object\n",
      "Product             object\n",
      "Quantity Ordered    object\n",
      "Price Each          object\n",
      "Order Date          object\n",
      "Purchase Address    object\n",
      "dtype: object\n",
      "Order ID            object\n",
      "Product             object\n",
      "Quantity Ordered    object\n",
      "Price Each          object\n",
      "Order Date          object\n",
      "Purchase Address    object\n",
      "dtype: object\n",
      "Order ID            object\n",
      "Product             object\n",
      "Quantity Ordered    object\n",
      "Price Each          object\n",
      "Order Date          object\n",
      "Purchase Address    object\n",
      "dtype: object\n",
      "Order ID            object\n",
      "Product             object\n",
      "Quantity Ordered    object\n",
      "Price Each          object\n",
      "Order Date          object\n",
      "Purchase Address    object\n",
      "dtype: object\n",
      "Order ID            object\n",
      "Product             object\n",
      "Quantity Ordered    object\n",
      "Price Each          object\n",
      "Order Date          object\n",
      "Purchase Address    object\n",
      "dtype: object\n",
      "Order ID            object\n",
      "Product             object\n",
      "Quantity Ordered    object\n",
      "Price Each          object\n",
      "Order Date          object\n",
      "Purchase Address    object\n",
      "dtype: object\n",
      "Order ID            object\n",
      "Product             object\n",
      "Quantity Ordered    object\n",
      "Price Each          object\n",
      "Order Date          object\n",
      "Purchase Address    object\n",
      "dtype: object\n",
      "Order ID            object\n",
      "Product             object\n",
      "Quantity Ordered    object\n",
      "Price Each          object\n",
      "Order Date          object\n",
      "Purchase Address    object\n",
      "dtype: object\n",
      "Order ID            object\n",
      "Product             object\n",
      "Quantity Ordered    object\n",
      "Price Each          object\n",
      "Order Date          object\n",
      "Purchase Address    object\n",
      "dtype: object\n",
      "Order ID            object\n",
      "Product             object\n",
      "Quantity Ordered    object\n",
      "Price Each          object\n",
      "Order Date          object\n",
      "Purchase Address    object\n",
      "dtype: object\n",
      "Order ID            object\n",
      "Product             object\n",
      "Quantity Ordered    object\n",
      "Price Each          object\n",
      "Order Date          object\n",
      "Purchase Address    object\n",
      "dtype: object\n"
     ]
    }
   ],
   "source": [
    "# create a loop to check for consistent data types in each data frame.\n",
    "# enumerate creates a counter tuple with the dflist. EXAMPLE: (0, jan_2019)\n",
    "\n",
    "for i, df in enumerate(dflist):\n",
    "    print(dflist[i].dtypes)"
   ]
  },
  {
   "cell_type": "code",
   "execution_count": 6,
   "id": "9db685d9",
   "metadata": {},
   "outputs": [
    {
     "name": "stdout",
     "output_type": "stream",
     "text": [
      "(9723, 6)\n",
      "(12036, 6)\n",
      "(15226, 6)\n",
      "(18383, 6)\n",
      "(16635, 6)\n",
      "(13622, 6)\n",
      "(14371, 6)\n",
      "(12011, 6)\n",
      "(11686, 6)\n",
      "(20379, 6)\n",
      "(17661, 6)\n",
      "(25117, 6)\n",
      "\n",
      "Total rows of sales data is: 186850\n"
     ]
    }
   ],
   "source": [
    "# Check to see how many rows in total exist\n",
    "\n",
    "sum_rows=0\n",
    "for i, df in enumerate(dflist):\n",
    "    sum_rows += dflist[i].shape[0]\n",
    "    print(dflist[i].shape)\n",
    "print(\"\\n\" + \"Total rows of sales data is: \" + str(sum_rows))"
   ]
  },
  {
   "cell_type": "code",
   "execution_count": 7,
   "id": "12520814",
   "metadata": {},
   "outputs": [],
   "source": [
    "# Concatenate vertically all the data dataframes to create a \n",
    "# Master Sales data of 2019.\n",
    "\n",
    "sales_2019 = pd.concat([jan_2021, feb_2021, mar_2021, apr_2021,\n",
    "         may_2021, jun_2021, jul_2021, aug_2021,\n",
    "         sep_2021, oct_2021, nov_2021, dec_2021])"
   ]
  },
  {
   "cell_type": "code",
   "execution_count": 8,
   "id": "5ad171ec",
   "metadata": {
    "scrolled": true
   },
   "outputs": [
    {
     "data": {
      "text/plain": [
       "(186850, 6)"
      ]
     },
     "execution_count": 8,
     "metadata": {},
     "output_type": "execute_result"
    }
   ],
   "source": [
    "# Check if data sets concatentated correctely\n",
    "\n",
    "sales_2019.shape"
   ]
  },
  {
   "cell_type": "code",
   "execution_count": 9,
   "id": "1a6a60c2",
   "metadata": {},
   "outputs": [
    {
     "data": {
      "text/plain": [
       "0               944 Walnut St, Boston, MA 02215\n",
       "1              185 Maple St, Portland, OR 97035\n",
       "2         538 Adams St, San Francisco, CA 94016\n",
       "3            738 10th St, Los Angeles, CA 90001\n",
       "4                 387 10th St, Austin, TX 73301\n",
       "                          ...                  \n",
       "25112    14 Madison St, San Francisco, CA 94016\n",
       "25113      549 Willow St, Los Angeles, CA 90001\n",
       "25114          273 Wilson St, Seattle, WA 98101\n",
       "25115            778 River St, Dallas, TX 75001\n",
       "25116    747 Chestnut St, Los Angeles, CA 90001\n",
       "Name: Purchase Address, Length: 186850, dtype: object"
      ]
     },
     "execution_count": 9,
     "metadata": {},
     "output_type": "execute_result"
    }
   ],
   "source": [
    "# Clear leading and trailing whitespace from values\n",
    "\n",
    "sales_2021[\"Order ID\"].str.strip()\n",
    "sales_2021[\"Product\"].str.strip()\n",
    "sales_2021[\"Quantity Ordered\"].str.strip()\n",
    "sales_2021[\"Price Each\"].str.strip()\n",
    "sales_2021[\"Order Date\"].str.strip()\n",
    "sales_2021[\"Purchase Address\"].str.strip()"
   ]
  },
  {
   "cell_type": "code",
   "execution_count": 10,
   "id": "9e413de2",
   "metadata": {},
   "outputs": [
    {
     "data": {
      "text/plain": [
       "Order ID            545\n",
       "Product             545\n",
       "Quantity Ordered    545\n",
       "Price Each          545\n",
       "Order Date          545\n",
       "Purchase Address    545\n",
       "dtype: int64"
      ]
     },
     "execution_count": 10,
     "metadata": {},
     "output_type": "execute_result"
    }
   ],
   "source": [
    "# Check how many missing values there are in each column\n",
    "\n",
    "sales_2019.isna().sum()"
   ]
  },
  {
   "cell_type": "code",
   "execution_count": 11,
   "id": "e1c1e98d",
   "metadata": {},
   "outputs": [],
   "source": [
    "# Drop rows with missing values\n",
    "\n",
    "sales_2019.dropna(inplace=True)"
   ]
  },
  {
   "cell_type": "code",
   "execution_count": 12,
   "id": "3d9cbe25",
   "metadata": {},
   "outputs": [
    {
     "data": {
      "text/plain": [
       "Order ID            0\n",
       "Product             0\n",
       "Quantity Ordered    0\n",
       "Price Each          0\n",
       "Order Date          0\n",
       "Purchase Address    0\n",
       "dtype: int64"
      ]
     },
     "execution_count": 12,
     "metadata": {},
     "output_type": "execute_result"
    }
   ],
   "source": [
    "# verify that missing values were removed\n",
    "\n",
    "sales_2019.isna().sum()"
   ]
  },
  {
   "cell_type": "code",
   "execution_count": 13,
   "id": "4abb8a9a",
   "metadata": {},
   "outputs": [
    {
     "data": {
      "text/plain": [
       "False    185687\n",
       "True        618\n",
       "dtype: int64"
      ]
     },
     "execution_count": 13,
     "metadata": {},
     "output_type": "execute_result"
    }
   ],
   "source": [
    "# check for duplicates\n",
    "\n",
    "sales_2019.duplicated().value_counts()"
   ]
  },
  {
   "cell_type": "code",
   "execution_count": 14,
   "id": "39ead172",
   "metadata": {},
   "outputs": [],
   "source": [
    "# remove duplicate rows from the data set\n",
    "\n",
    "sales_2019 = sales_2019.drop_duplicates()"
   ]
  },
  {
   "cell_type": "code",
   "execution_count": 15,
   "id": "036159bc",
   "metadata": {},
   "outputs": [
    {
     "data": {
      "text/plain": [
       "False    185687\n",
       "dtype: int64"
      ]
     },
     "execution_count": 15,
     "metadata": {},
     "output_type": "execute_result"
    }
   ],
   "source": [
    "# verify duplicates have been dropped\n",
    "\n",
    "sales_2019.duplicated().value_counts()"
   ]
  },
  {
   "cell_type": "code",
   "execution_count": 16,
   "id": "14c59c37",
   "metadata": {},
   "outputs": [
    {
     "data": {
      "text/plain": [
       "array(['700', '14.95', '11.99', '149.99', '2.99', '389.99', '11.95',\n",
       "       '99.99', '150', '1700', '300', '400', '3.84', '600', '109.99',\n",
       "       '379.99', '999.99', '600.0', 'Price Each', '700.0', '150.0',\n",
       "       '300.0', '1700.0', '400.0'], dtype=object)"
      ]
     },
     "execution_count": 16,
     "metadata": {},
     "output_type": "execute_result"
    }
   ],
   "source": [
    "# observe the unique values of Price Each\n",
    "\n",
    "sales_2019['Price Each'].unique()"
   ]
  },
  {
   "cell_type": "code",
   "execution_count": 17,
   "id": "2f035195",
   "metadata": {
    "scrolled": true
   },
   "outputs": [
    {
     "data": {
      "text/plain": [
       "1535"
      ]
     },
     "execution_count": 17,
     "metadata": {},
     "output_type": "execute_result"
    }
   ],
   "source": [
    "# Check how many rows are affect with values ending with only .0\n",
    "\n",
    "sales_2019[\"Price Each\"].str.endswith(\".0\").sum()"
   ]
  },
  {
   "cell_type": "code",
   "execution_count": 18,
   "id": "24543449",
   "metadata": {},
   "outputs": [
    {
     "data": {
      "text/plain": [
       "0"
      ]
     },
     "execution_count": 18,
     "metadata": {},
     "output_type": "execute_result"
    }
   ],
   "source": [
    "# Check how many rows end with a value of .00\n",
    "\n",
    "sales_2019[\"Price Each\"].str.endswith(\".00\").sum()"
   ]
  },
  {
   "cell_type": "code",
   "execution_count": 19,
   "id": "d5554f40",
   "metadata": {
    "scrolled": true
   },
   "outputs": [
    {
     "data": {
      "text/plain": [
       "40779"
      ]
     },
     "execution_count": 19,
     "metadata": {},
     "output_type": "execute_result"
    }
   ],
   "source": [
    "# check how many rows ends with a value of 0\n",
    "\n",
    "sales_2019[\"Price Each\"].str.endswith(\"0\").sum()"
   ]
  },
  {
   "cell_type": "code",
   "execution_count": 20,
   "id": "3923dbc0",
   "metadata": {},
   "outputs": [],
   "source": [
    "# Remove values in \"Price Each\" column that ends with .0\n",
    "\n",
    "sales_2019[\"Price Each\"].replace(r\"\\.0$\",\"\", inplace=True, regex=True)"
   ]
  },
  {
   "cell_type": "code",
   "execution_count": 21,
   "id": "c2ff13c4",
   "metadata": {
    "scrolled": true
   },
   "outputs": [],
   "source": [
    "# Replace values in \"Price Each\" column that ends with 0 and add 0.00\n",
    "\n",
    "sales_2019[\"Price Each\"].replace(r\"0$\", \"0.00\", inplace=True, regex=True)"
   ]
  },
  {
   "cell_type": "code",
   "execution_count": 22,
   "id": "772ede50",
   "metadata": {},
   "outputs": [
    {
     "name": "stdout",
     "output_type": "stream",
     "text": [
      "0\n",
      "40779\n",
      "40779\n"
     ]
    }
   ],
   "source": [
    "# Verify that the changes were accurately completed\n",
    "\n",
    "print(sales_2019[\"Price Each\"].str.endswith(\".0\").sum())\n",
    "print(sales_2019[\"Price Each\"].str.endswith(\"0\").sum())\n",
    "print(sales_2019[\"Price Each\"].str.endswith(\".00\").sum())"
   ]
  },
  {
   "cell_type": "code",
   "execution_count": 23,
   "id": "bf872b74",
   "metadata": {},
   "outputs": [
    {
     "data": {
      "text/plain": [
       "array(['700.00', '14.95', '11.99', '149.99', '2.99', '389.99', '11.95',\n",
       "       '99.99', '150.00', '1700.00', '300.00', '400.00', '3.84', '600.00',\n",
       "       '109.99', '379.99', '999.99', 'Price Each'], dtype=object)"
      ]
     },
     "execution_count": 23,
     "metadata": {},
     "output_type": "execute_result"
    }
   ],
   "source": [
    "# Check the Price Each column to make sure all values end with 2 decimal places\n",
    "\n",
    "sales_2019[\"Price Each\"].unique()"
   ]
  },
  {
   "cell_type": "code",
   "execution_count": 24,
   "id": "3bf2b15b",
   "metadata": {
    "scrolled": false
   },
   "outputs": [
    {
     "name": "stdout",
     "output_type": "stream",
     "text": [
      "(185687, 6)\n"
     ]
    },
    {
     "data": {
      "text/html": [
       "<div>\n",
       "<style scoped>\n",
       "    .dataframe tbody tr th:only-of-type {\n",
       "        vertical-align: middle;\n",
       "    }\n",
       "\n",
       "    .dataframe tbody tr th {\n",
       "        vertical-align: top;\n",
       "    }\n",
       "\n",
       "    .dataframe thead th {\n",
       "        text-align: right;\n",
       "    }\n",
       "</style>\n",
       "<table border=\"1\" class=\"dataframe\">\n",
       "  <thead>\n",
       "    <tr style=\"text-align: right;\">\n",
       "      <th></th>\n",
       "      <th>Order ID</th>\n",
       "      <th>Product</th>\n",
       "      <th>Quantity Ordered</th>\n",
       "      <th>Price Each</th>\n",
       "      <th>Order Date</th>\n",
       "      <th>Purchase Address</th>\n",
       "    </tr>\n",
       "  </thead>\n",
       "  <tbody>\n",
       "    <tr>\n",
       "      <th>0</th>\n",
       "      <td>141234</td>\n",
       "      <td>iPhone</td>\n",
       "      <td>1</td>\n",
       "      <td>700.00</td>\n",
       "      <td>01/22/19 21:25</td>\n",
       "      <td>944 Walnut St, Boston, MA 02215</td>\n",
       "    </tr>\n",
       "    <tr>\n",
       "      <th>1</th>\n",
       "      <td>141235</td>\n",
       "      <td>Lightning Charging Cable</td>\n",
       "      <td>1</td>\n",
       "      <td>14.95</td>\n",
       "      <td>01/28/19 14:15</td>\n",
       "      <td>185 Maple St, Portland, OR 97035</td>\n",
       "    </tr>\n",
       "    <tr>\n",
       "      <th>2</th>\n",
       "      <td>141236</td>\n",
       "      <td>Wired Headphones</td>\n",
       "      <td>2</td>\n",
       "      <td>11.99</td>\n",
       "      <td>01/17/19 13:33</td>\n",
       "      <td>538 Adams St, San Francisco, CA 94016</td>\n",
       "    </tr>\n",
       "    <tr>\n",
       "      <th>3</th>\n",
       "      <td>141237</td>\n",
       "      <td>27in FHD Monitor</td>\n",
       "      <td>1</td>\n",
       "      <td>149.99</td>\n",
       "      <td>01/05/19 20:33</td>\n",
       "      <td>738 10th St, Los Angeles, CA 90001</td>\n",
       "    </tr>\n",
       "    <tr>\n",
       "      <th>4</th>\n",
       "      <td>141238</td>\n",
       "      <td>Wired Headphones</td>\n",
       "      <td>1</td>\n",
       "      <td>11.99</td>\n",
       "      <td>01/25/19 11:59</td>\n",
       "      <td>387 10th St, Austin, TX 73301</td>\n",
       "    </tr>\n",
       "    <tr>\n",
       "      <th>...</th>\n",
       "      <td>...</td>\n",
       "      <td>...</td>\n",
       "      <td>...</td>\n",
       "      <td>...</td>\n",
       "      <td>...</td>\n",
       "      <td>...</td>\n",
       "    </tr>\n",
       "    <tr>\n",
       "      <th>25112</th>\n",
       "      <td>319666</td>\n",
       "      <td>Lightning Charging Cable</td>\n",
       "      <td>1</td>\n",
       "      <td>14.95</td>\n",
       "      <td>12/11/19 20:58</td>\n",
       "      <td>14 Madison St, San Francisco, CA 94016</td>\n",
       "    </tr>\n",
       "    <tr>\n",
       "      <th>25113</th>\n",
       "      <td>319667</td>\n",
       "      <td>AA Batteries (4-pack)</td>\n",
       "      <td>2</td>\n",
       "      <td>3.84</td>\n",
       "      <td>12/01/19 12:01</td>\n",
       "      <td>549 Willow St, Los Angeles, CA 90001</td>\n",
       "    </tr>\n",
       "    <tr>\n",
       "      <th>25114</th>\n",
       "      <td>319668</td>\n",
       "      <td>Vareebadd Phone</td>\n",
       "      <td>1</td>\n",
       "      <td>400.00</td>\n",
       "      <td>12/09/19 06:43</td>\n",
       "      <td>273 Wilson St, Seattle, WA 98101</td>\n",
       "    </tr>\n",
       "    <tr>\n",
       "      <th>25115</th>\n",
       "      <td>319669</td>\n",
       "      <td>Wired Headphones</td>\n",
       "      <td>1</td>\n",
       "      <td>11.99</td>\n",
       "      <td>12/03/19 10:39</td>\n",
       "      <td>778 River St, Dallas, TX 75001</td>\n",
       "    </tr>\n",
       "    <tr>\n",
       "      <th>25116</th>\n",
       "      <td>319670</td>\n",
       "      <td>Bose SoundSport Headphones</td>\n",
       "      <td>1</td>\n",
       "      <td>99.99</td>\n",
       "      <td>12/21/19 21:45</td>\n",
       "      <td>747 Chestnut St, Los Angeles, CA 90001</td>\n",
       "    </tr>\n",
       "  </tbody>\n",
       "</table>\n",
       "<p>185687 rows × 6 columns</p>\n",
       "</div>"
      ],
      "text/plain": [
       "      Order ID                     Product Quantity Ordered Price Each  \\\n",
       "0       141234                      iPhone                1     700.00   \n",
       "1       141235    Lightning Charging Cable                1      14.95   \n",
       "2       141236            Wired Headphones                2      11.99   \n",
       "3       141237            27in FHD Monitor                1     149.99   \n",
       "4       141238            Wired Headphones                1      11.99   \n",
       "...        ...                         ...              ...        ...   \n",
       "25112   319666    Lightning Charging Cable                1      14.95   \n",
       "25113   319667       AA Batteries (4-pack)                2       3.84   \n",
       "25114   319668             Vareebadd Phone                1     400.00   \n",
       "25115   319669            Wired Headphones                1      11.99   \n",
       "25116   319670  Bose SoundSport Headphones                1      99.99   \n",
       "\n",
       "           Order Date                        Purchase Address  \n",
       "0      01/22/19 21:25         944 Walnut St, Boston, MA 02215  \n",
       "1      01/28/19 14:15        185 Maple St, Portland, OR 97035  \n",
       "2      01/17/19 13:33   538 Adams St, San Francisco, CA 94016  \n",
       "3      01/05/19 20:33      738 10th St, Los Angeles, CA 90001  \n",
       "4      01/25/19 11:59           387 10th St, Austin, TX 73301  \n",
       "...               ...                                     ...  \n",
       "25112  12/11/19 20:58  14 Madison St, San Francisco, CA 94016  \n",
       "25113  12/01/19 12:01    549 Willow St, Los Angeles, CA 90001  \n",
       "25114  12/09/19 06:43        273 Wilson St, Seattle, WA 98101  \n",
       "25115  12/03/19 10:39          778 River St, Dallas, TX 75001  \n",
       "25116  12/21/19 21:45  747 Chestnut St, Los Angeles, CA 90001  \n",
       "\n",
       "[185687 rows x 6 columns]"
      ]
     },
     "execution_count": 24,
     "metadata": {},
     "output_type": "execute_result"
    }
   ],
   "source": [
    "# Check data set to make sure no data was lost during modifications\n",
    "\n",
    "print(sales_2019.shape)\n",
    "sales_2019"
   ]
  },
  {
   "cell_type": "code",
   "execution_count": 25,
   "id": "547de688",
   "metadata": {},
   "outputs": [],
   "source": [
    "# Reorder columns\n",
    "\n",
    "sales_2019 = sales_2019[['Order ID', 'Product', 'Quantity Ordered', 'Price Each', 'Order Date', 'Purchase Address']]"
   ]
  },
  {
   "cell_type": "code",
   "execution_count": 26,
   "id": "0daa82ce",
   "metadata": {},
   "outputs": [],
   "source": [
    "# Split Current Address Values into 3 new Columns\n",
    "\n",
    "sales_2019[['Address', 'City', 'State/Zip']] = sales_2021['Purchase Address'].str.split(\",\", expand=True)"
   ]
  },
  {
   "cell_type": "code",
   "execution_count": 27,
   "id": "ed87fd2d",
   "metadata": {},
   "outputs": [
    {
     "data": {
      "text/plain": [
       "0        MA 02215\n",
       "1        OR 97035\n",
       "2        CA 94016\n",
       "3        CA 90001\n",
       "4        TX 73301\n",
       "           ...   \n",
       "25112    CA 94016\n",
       "25113    CA 90001\n",
       "25114    WA 98101\n",
       "25115    TX 75001\n",
       "25116    CA 90001\n",
       "Name: State/Zip, Length: 185687, dtype: object"
      ]
     },
     "execution_count": 27,
     "metadata": {},
     "output_type": "execute_result"
    }
   ],
   "source": [
    "# Clear whitespace from \"State/Zip\" column\n",
    "\n",
    "sales_2019['State/Zip'].str.strip()"
   ]
  },
  {
   "cell_type": "code",
   "execution_count": 28,
   "id": "5fc2a0ff",
   "metadata": {},
   "outputs": [],
   "source": [
    "# Create new columns 3 State/Zip column\n",
    "\n",
    "sales_2019[['blank','State', 'Zip Code']] = sales_2019['State/Zip'].str.split(\" \", expand=True)"
   ]
  },
  {
   "cell_type": "code",
   "execution_count": 29,
   "id": "7692e82e",
   "metadata": {},
   "outputs": [],
   "source": [
    "# Drop any unneeded columns\n",
    "\n",
    "sales_2019 = sales_2019.drop(['Address', 'State/Zip', 'blank'], axis=1)"
   ]
  },
  {
   "cell_type": "code",
   "execution_count": 30,
   "id": "6a0a20d5",
   "metadata": {
    "scrolled": true
   },
   "outputs": [
    {
     "data": {
      "text/html": [
       "<div>\n",
       "<style scoped>\n",
       "    .dataframe tbody tr th:only-of-type {\n",
       "        vertical-align: middle;\n",
       "    }\n",
       "\n",
       "    .dataframe tbody tr th {\n",
       "        vertical-align: top;\n",
       "    }\n",
       "\n",
       "    .dataframe thead th {\n",
       "        text-align: right;\n",
       "    }\n",
       "</style>\n",
       "<table border=\"1\" class=\"dataframe\">\n",
       "  <thead>\n",
       "    <tr style=\"text-align: right;\">\n",
       "      <th></th>\n",
       "      <th>Order ID</th>\n",
       "      <th>Product</th>\n",
       "      <th>Quantity Ordered</th>\n",
       "      <th>Price Each</th>\n",
       "      <th>Order Date</th>\n",
       "      <th>Purchase Address</th>\n",
       "      <th>City</th>\n",
       "      <th>State</th>\n",
       "      <th>Zip Code</th>\n",
       "    </tr>\n",
       "  </thead>\n",
       "  <tbody>\n",
       "    <tr>\n",
       "      <th>0</th>\n",
       "      <td>141234</td>\n",
       "      <td>iPhone</td>\n",
       "      <td>1</td>\n",
       "      <td>700.00</td>\n",
       "      <td>01/22/19 21:25</td>\n",
       "      <td>944 Walnut St, Boston, MA 02215</td>\n",
       "      <td>Boston</td>\n",
       "      <td>MA</td>\n",
       "      <td>02215</td>\n",
       "    </tr>\n",
       "    <tr>\n",
       "      <th>1</th>\n",
       "      <td>141235</td>\n",
       "      <td>Lightning Charging Cable</td>\n",
       "      <td>1</td>\n",
       "      <td>14.95</td>\n",
       "      <td>01/28/19 14:15</td>\n",
       "      <td>185 Maple St, Portland, OR 97035</td>\n",
       "      <td>Portland</td>\n",
       "      <td>OR</td>\n",
       "      <td>97035</td>\n",
       "    </tr>\n",
       "    <tr>\n",
       "      <th>2</th>\n",
       "      <td>141236</td>\n",
       "      <td>Wired Headphones</td>\n",
       "      <td>2</td>\n",
       "      <td>11.99</td>\n",
       "      <td>01/17/19 13:33</td>\n",
       "      <td>538 Adams St, San Francisco, CA 94016</td>\n",
       "      <td>San Francisco</td>\n",
       "      <td>CA</td>\n",
       "      <td>94016</td>\n",
       "    </tr>\n",
       "    <tr>\n",
       "      <th>3</th>\n",
       "      <td>141237</td>\n",
       "      <td>27in FHD Monitor</td>\n",
       "      <td>1</td>\n",
       "      <td>149.99</td>\n",
       "      <td>01/05/19 20:33</td>\n",
       "      <td>738 10th St, Los Angeles, CA 90001</td>\n",
       "      <td>Los Angeles</td>\n",
       "      <td>CA</td>\n",
       "      <td>90001</td>\n",
       "    </tr>\n",
       "    <tr>\n",
       "      <th>4</th>\n",
       "      <td>141238</td>\n",
       "      <td>Wired Headphones</td>\n",
       "      <td>1</td>\n",
       "      <td>11.99</td>\n",
       "      <td>01/25/19 11:59</td>\n",
       "      <td>387 10th St, Austin, TX 73301</td>\n",
       "      <td>Austin</td>\n",
       "      <td>TX</td>\n",
       "      <td>73301</td>\n",
       "    </tr>\n",
       "    <tr>\n",
       "      <th>...</th>\n",
       "      <td>...</td>\n",
       "      <td>...</td>\n",
       "      <td>...</td>\n",
       "      <td>...</td>\n",
       "      <td>...</td>\n",
       "      <td>...</td>\n",
       "      <td>...</td>\n",
       "      <td>...</td>\n",
       "      <td>...</td>\n",
       "    </tr>\n",
       "    <tr>\n",
       "      <th>25112</th>\n",
       "      <td>319666</td>\n",
       "      <td>Lightning Charging Cable</td>\n",
       "      <td>1</td>\n",
       "      <td>14.95</td>\n",
       "      <td>12/11/19 20:58</td>\n",
       "      <td>14 Madison St, San Francisco, CA 94016</td>\n",
       "      <td>San Francisco</td>\n",
       "      <td>CA</td>\n",
       "      <td>94016</td>\n",
       "    </tr>\n",
       "    <tr>\n",
       "      <th>25113</th>\n",
       "      <td>319667</td>\n",
       "      <td>AA Batteries (4-pack)</td>\n",
       "      <td>2</td>\n",
       "      <td>3.84</td>\n",
       "      <td>12/01/19 12:01</td>\n",
       "      <td>549 Willow St, Los Angeles, CA 90001</td>\n",
       "      <td>Los Angeles</td>\n",
       "      <td>CA</td>\n",
       "      <td>90001</td>\n",
       "    </tr>\n",
       "    <tr>\n",
       "      <th>25114</th>\n",
       "      <td>319668</td>\n",
       "      <td>Vareebadd Phone</td>\n",
       "      <td>1</td>\n",
       "      <td>400.00</td>\n",
       "      <td>12/09/19 06:43</td>\n",
       "      <td>273 Wilson St, Seattle, WA 98101</td>\n",
       "      <td>Seattle</td>\n",
       "      <td>WA</td>\n",
       "      <td>98101</td>\n",
       "    </tr>\n",
       "    <tr>\n",
       "      <th>25115</th>\n",
       "      <td>319669</td>\n",
       "      <td>Wired Headphones</td>\n",
       "      <td>1</td>\n",
       "      <td>11.99</td>\n",
       "      <td>12/03/19 10:39</td>\n",
       "      <td>778 River St, Dallas, TX 75001</td>\n",
       "      <td>Dallas</td>\n",
       "      <td>TX</td>\n",
       "      <td>75001</td>\n",
       "    </tr>\n",
       "    <tr>\n",
       "      <th>25116</th>\n",
       "      <td>319670</td>\n",
       "      <td>Bose SoundSport Headphones</td>\n",
       "      <td>1</td>\n",
       "      <td>99.99</td>\n",
       "      <td>12/21/19 21:45</td>\n",
       "      <td>747 Chestnut St, Los Angeles, CA 90001</td>\n",
       "      <td>Los Angeles</td>\n",
       "      <td>CA</td>\n",
       "      <td>90001</td>\n",
       "    </tr>\n",
       "  </tbody>\n",
       "</table>\n",
       "<p>185687 rows × 9 columns</p>\n",
       "</div>"
      ],
      "text/plain": [
       "      Order ID                     Product Quantity Ordered Price Each  \\\n",
       "0       141234                      iPhone                1     700.00   \n",
       "1       141235    Lightning Charging Cable                1      14.95   \n",
       "2       141236            Wired Headphones                2      11.99   \n",
       "3       141237            27in FHD Monitor                1     149.99   \n",
       "4       141238            Wired Headphones                1      11.99   \n",
       "...        ...                         ...              ...        ...   \n",
       "25112   319666    Lightning Charging Cable                1      14.95   \n",
       "25113   319667       AA Batteries (4-pack)                2       3.84   \n",
       "25114   319668             Vareebadd Phone                1     400.00   \n",
       "25115   319669            Wired Headphones                1      11.99   \n",
       "25116   319670  Bose SoundSport Headphones                1      99.99   \n",
       "\n",
       "           Order Date                        Purchase Address            City  \\\n",
       "0      01/22/19 21:25         944 Walnut St, Boston, MA 02215          Boston   \n",
       "1      01/28/19 14:15        185 Maple St, Portland, OR 97035        Portland   \n",
       "2      01/17/19 13:33   538 Adams St, San Francisco, CA 94016   San Francisco   \n",
       "3      01/05/19 20:33      738 10th St, Los Angeles, CA 90001     Los Angeles   \n",
       "4      01/25/19 11:59           387 10th St, Austin, TX 73301          Austin   \n",
       "...               ...                                     ...             ...   \n",
       "25112  12/11/19 20:58  14 Madison St, San Francisco, CA 94016   San Francisco   \n",
       "25113  12/01/19 12:01    549 Willow St, Los Angeles, CA 90001     Los Angeles   \n",
       "25114  12/09/19 06:43        273 Wilson St, Seattle, WA 98101         Seattle   \n",
       "25115  12/03/19 10:39          778 River St, Dallas, TX 75001          Dallas   \n",
       "25116  12/21/19 21:45  747 Chestnut St, Los Angeles, CA 90001     Los Angeles   \n",
       "\n",
       "      State Zip Code  \n",
       "0        MA    02215  \n",
       "1        OR    97035  \n",
       "2        CA    94016  \n",
       "3        CA    90001  \n",
       "4        TX    73301  \n",
       "...     ...      ...  \n",
       "25112    CA    94016  \n",
       "25113    CA    90001  \n",
       "25114    WA    98101  \n",
       "25115    TX    75001  \n",
       "25116    CA    90001  \n",
       "\n",
       "[185687 rows x 9 columns]"
      ]
     },
     "execution_count": 30,
     "metadata": {},
     "output_type": "execute_result"
    }
   ],
   "source": [
    "# Check Changes of adjustments to new columns\n",
    "\n",
    "sales_2019"
   ]
  },
  {
   "cell_type": "code",
   "execution_count": 31,
   "id": "faa4b547",
   "metadata": {},
   "outputs": [
    {
     "data": {
      "text/html": [
       "<div>\n",
       "<style scoped>\n",
       "    .dataframe tbody tr th:only-of-type {\n",
       "        vertical-align: middle;\n",
       "    }\n",
       "\n",
       "    .dataframe tbody tr th {\n",
       "        vertical-align: top;\n",
       "    }\n",
       "\n",
       "    .dataframe thead th {\n",
       "        text-align: right;\n",
       "    }\n",
       "</style>\n",
       "<table border=\"1\" class=\"dataframe\">\n",
       "  <thead>\n",
       "    <tr style=\"text-align: right;\">\n",
       "      <th></th>\n",
       "      <th>Order ID</th>\n",
       "      <th>Product</th>\n",
       "      <th>Quantity Ordered</th>\n",
       "      <th>Price Each</th>\n",
       "      <th>Order Date</th>\n",
       "      <th>Purchase Address</th>\n",
       "      <th>City</th>\n",
       "      <th>State</th>\n",
       "      <th>Zip Code</th>\n",
       "    </tr>\n",
       "  </thead>\n",
       "  <tbody>\n",
       "    <tr>\n",
       "      <th>0</th>\n",
       "      <td>141234</td>\n",
       "      <td>iPhone</td>\n",
       "      <td>1</td>\n",
       "      <td>700.00</td>\n",
       "      <td>01/22/19 21:25</td>\n",
       "      <td>944 Walnut St, Boston, MA 02215</td>\n",
       "      <td>Boston</td>\n",
       "      <td>MA</td>\n",
       "      <td>02215</td>\n",
       "    </tr>\n",
       "    <tr>\n",
       "      <th>1</th>\n",
       "      <td>141235</td>\n",
       "      <td>Lightning Charging Cable</td>\n",
       "      <td>1</td>\n",
       "      <td>14.95</td>\n",
       "      <td>01/28/19 14:15</td>\n",
       "      <td>185 Maple St, Portland, OR 97035</td>\n",
       "      <td>Portland</td>\n",
       "      <td>OR</td>\n",
       "      <td>97035</td>\n",
       "    </tr>\n",
       "    <tr>\n",
       "      <th>2</th>\n",
       "      <td>141236</td>\n",
       "      <td>Wired Headphones</td>\n",
       "      <td>2</td>\n",
       "      <td>11.99</td>\n",
       "      <td>01/17/19 13:33</td>\n",
       "      <td>538 Adams St, San Francisco, CA 94016</td>\n",
       "      <td>San Francisco</td>\n",
       "      <td>CA</td>\n",
       "      <td>94016</td>\n",
       "    </tr>\n",
       "    <tr>\n",
       "      <th>3</th>\n",
       "      <td>141237</td>\n",
       "      <td>27in FHD Monitor</td>\n",
       "      <td>1</td>\n",
       "      <td>149.99</td>\n",
       "      <td>01/05/19 20:33</td>\n",
       "      <td>738 10th St, Los Angeles, CA 90001</td>\n",
       "      <td>Los Angeles</td>\n",
       "      <td>CA</td>\n",
       "      <td>90001</td>\n",
       "    </tr>\n",
       "    <tr>\n",
       "      <th>4</th>\n",
       "      <td>141238</td>\n",
       "      <td>Wired Headphones</td>\n",
       "      <td>1</td>\n",
       "      <td>11.99</td>\n",
       "      <td>01/25/19 11:59</td>\n",
       "      <td>387 10th St, Austin, TX 73301</td>\n",
       "      <td>Austin</td>\n",
       "      <td>TX</td>\n",
       "      <td>73301</td>\n",
       "    </tr>\n",
       "    <tr>\n",
       "      <th>...</th>\n",
       "      <td>...</td>\n",
       "      <td>...</td>\n",
       "      <td>...</td>\n",
       "      <td>...</td>\n",
       "      <td>...</td>\n",
       "      <td>...</td>\n",
       "      <td>...</td>\n",
       "      <td>...</td>\n",
       "      <td>...</td>\n",
       "    </tr>\n",
       "    <tr>\n",
       "      <th>25112</th>\n",
       "      <td>319666</td>\n",
       "      <td>Lightning Charging Cable</td>\n",
       "      <td>1</td>\n",
       "      <td>14.95</td>\n",
       "      <td>12/11/19 20:58</td>\n",
       "      <td>14 Madison St, San Francisco, CA 94016</td>\n",
       "      <td>San Francisco</td>\n",
       "      <td>CA</td>\n",
       "      <td>94016</td>\n",
       "    </tr>\n",
       "    <tr>\n",
       "      <th>25113</th>\n",
       "      <td>319667</td>\n",
       "      <td>AA Batteries (4-pack)</td>\n",
       "      <td>2</td>\n",
       "      <td>3.84</td>\n",
       "      <td>12/01/19 12:01</td>\n",
       "      <td>549 Willow St, Los Angeles, CA 90001</td>\n",
       "      <td>Los Angeles</td>\n",
       "      <td>CA</td>\n",
       "      <td>90001</td>\n",
       "    </tr>\n",
       "    <tr>\n",
       "      <th>25114</th>\n",
       "      <td>319668</td>\n",
       "      <td>Vareebadd Phone</td>\n",
       "      <td>1</td>\n",
       "      <td>400.00</td>\n",
       "      <td>12/09/19 06:43</td>\n",
       "      <td>273 Wilson St, Seattle, WA 98101</td>\n",
       "      <td>Seattle</td>\n",
       "      <td>WA</td>\n",
       "      <td>98101</td>\n",
       "    </tr>\n",
       "    <tr>\n",
       "      <th>25115</th>\n",
       "      <td>319669</td>\n",
       "      <td>Wired Headphones</td>\n",
       "      <td>1</td>\n",
       "      <td>11.99</td>\n",
       "      <td>12/03/19 10:39</td>\n",
       "      <td>778 River St, Dallas, TX 75001</td>\n",
       "      <td>Dallas</td>\n",
       "      <td>TX</td>\n",
       "      <td>75001</td>\n",
       "    </tr>\n",
       "    <tr>\n",
       "      <th>25116</th>\n",
       "      <td>319670</td>\n",
       "      <td>Bose SoundSport Headphones</td>\n",
       "      <td>1</td>\n",
       "      <td>99.99</td>\n",
       "      <td>12/21/19 21:45</td>\n",
       "      <td>747 Chestnut St, Los Angeles, CA 90001</td>\n",
       "      <td>Los Angeles</td>\n",
       "      <td>CA</td>\n",
       "      <td>90001</td>\n",
       "    </tr>\n",
       "  </tbody>\n",
       "</table>\n",
       "<p>185687 rows × 9 columns</p>\n",
       "</div>"
      ],
      "text/plain": [
       "      Order ID                     Product Quantity Ordered Price Each  \\\n",
       "0       141234                      iPhone                1     700.00   \n",
       "1       141235    Lightning Charging Cable                1      14.95   \n",
       "2       141236            Wired Headphones                2      11.99   \n",
       "3       141237            27in FHD Monitor                1     149.99   \n",
       "4       141238            Wired Headphones                1      11.99   \n",
       "...        ...                         ...              ...        ...   \n",
       "25112   319666    Lightning Charging Cable                1      14.95   \n",
       "25113   319667       AA Batteries (4-pack)                2       3.84   \n",
       "25114   319668             Vareebadd Phone                1     400.00   \n",
       "25115   319669            Wired Headphones                1      11.99   \n",
       "25116   319670  Bose SoundSport Headphones                1      99.99   \n",
       "\n",
       "           Order Date                        Purchase Address            City  \\\n",
       "0      01/22/19 21:25         944 Walnut St, Boston, MA 02215          Boston   \n",
       "1      01/28/19 14:15        185 Maple St, Portland, OR 97035        Portland   \n",
       "2      01/17/19 13:33   538 Adams St, San Francisco, CA 94016   San Francisco   \n",
       "3      01/05/19 20:33      738 10th St, Los Angeles, CA 90001     Los Angeles   \n",
       "4      01/25/19 11:59           387 10th St, Austin, TX 73301          Austin   \n",
       "...               ...                                     ...             ...   \n",
       "25112  12/11/19 20:58  14 Madison St, San Francisco, CA 94016   San Francisco   \n",
       "25113  12/01/19 12:01    549 Willow St, Los Angeles, CA 90001     Los Angeles   \n",
       "25114  12/09/19 06:43        273 Wilson St, Seattle, WA 98101         Seattle   \n",
       "25115  12/03/19 10:39          778 River St, Dallas, TX 75001          Dallas   \n",
       "25116  12/21/19 21:45  747 Chestnut St, Los Angeles, CA 90001     Los Angeles   \n",
       "\n",
       "      State Zip Code  \n",
       "0        MA    02215  \n",
       "1        OR    97035  \n",
       "2        CA    94016  \n",
       "3        CA    90001  \n",
       "4        TX    73301  \n",
       "...     ...      ...  \n",
       "25112    CA    94016  \n",
       "25113    CA    90001  \n",
       "25114    WA    98101  \n",
       "25115    TX    75001  \n",
       "25116    CA    90001  \n",
       "\n",
       "[185687 rows x 9 columns]"
      ]
     },
     "execution_count": 31,
     "metadata": {},
     "output_type": "execute_result"
    }
   ],
   "source": [
    "sales_2019"
   ]
  },
  {
   "cell_type": "code",
   "execution_count": 32,
   "id": "6c481404",
   "metadata": {},
   "outputs": [],
   "source": [
    "# Convert Order Date column to datetime datatype\n",
    "\n",
    "sales_2019['Order Date'] = pd.to_datetime(sales_2019['Order Date'], errors='coerce')"
   ]
  },
  {
   "cell_type": "code",
   "execution_count": 33,
   "id": "d4d4b3a0",
   "metadata": {},
   "outputs": [],
   "source": [
    "# Convert Order Date column to type String\n",
    "\n",
    "sales_2019 = sales_2019.astype({\"Order Date\": \"string\"})"
   ]
  },
  {
   "cell_type": "code",
   "execution_count": 35,
   "id": "59755622",
   "metadata": {},
   "outputs": [],
   "source": [
    "# Convert Order Date column to datetime datatype\n",
    "\n",
    "sales_2019['Order Date'] = pd.to_datetime(sales_2019['Order Date'], errors='coerce')"
   ]
  },
  {
   "cell_type": "code",
   "execution_count": 36,
   "id": "a7bc01b9",
   "metadata": {
    "scrolled": true
   },
   "outputs": [
    {
     "data": {
      "text/html": [
       "<div>\n",
       "<style scoped>\n",
       "    .dataframe tbody tr th:only-of-type {\n",
       "        vertical-align: middle;\n",
       "    }\n",
       "\n",
       "    .dataframe tbody tr th {\n",
       "        vertical-align: top;\n",
       "    }\n",
       "\n",
       "    .dataframe thead th {\n",
       "        text-align: right;\n",
       "    }\n",
       "</style>\n",
       "<table border=\"1\" class=\"dataframe\">\n",
       "  <thead>\n",
       "    <tr style=\"text-align: right;\">\n",
       "      <th></th>\n",
       "      <th>Order ID</th>\n",
       "      <th>Product</th>\n",
       "      <th>Quantity Ordered</th>\n",
       "      <th>Price Each</th>\n",
       "      <th>Order Date</th>\n",
       "      <th>Purchase Address</th>\n",
       "      <th>City</th>\n",
       "      <th>State</th>\n",
       "      <th>Zip Code</th>\n",
       "    </tr>\n",
       "  </thead>\n",
       "  <tbody>\n",
       "    <tr>\n",
       "      <th>0</th>\n",
       "      <td>141234</td>\n",
       "      <td>iPhone</td>\n",
       "      <td>1</td>\n",
       "      <td>700.00</td>\n",
       "      <td>2021-01-22 21:25:00</td>\n",
       "      <td>944 Walnut St, Boston, MA 02215</td>\n",
       "      <td>Boston</td>\n",
       "      <td>MA</td>\n",
       "      <td>02215</td>\n",
       "    </tr>\n",
       "    <tr>\n",
       "      <th>1</th>\n",
       "      <td>141235</td>\n",
       "      <td>Lightning Charging Cable</td>\n",
       "      <td>1</td>\n",
       "      <td>14.95</td>\n",
       "      <td>2021-01-28 14:15:00</td>\n",
       "      <td>185 Maple St, Portland, OR 97035</td>\n",
       "      <td>Portland</td>\n",
       "      <td>OR</td>\n",
       "      <td>97035</td>\n",
       "    </tr>\n",
       "    <tr>\n",
       "      <th>2</th>\n",
       "      <td>141236</td>\n",
       "      <td>Wired Headphones</td>\n",
       "      <td>2</td>\n",
       "      <td>11.99</td>\n",
       "      <td>2021-01-17 13:33:00</td>\n",
       "      <td>538 Adams St, San Francisco, CA 94016</td>\n",
       "      <td>San Francisco</td>\n",
       "      <td>CA</td>\n",
       "      <td>94016</td>\n",
       "    </tr>\n",
       "    <tr>\n",
       "      <th>3</th>\n",
       "      <td>141237</td>\n",
       "      <td>27in FHD Monitor</td>\n",
       "      <td>1</td>\n",
       "      <td>149.99</td>\n",
       "      <td>2021-01-05 20:33:00</td>\n",
       "      <td>738 10th St, Los Angeles, CA 90001</td>\n",
       "      <td>Los Angeles</td>\n",
       "      <td>CA</td>\n",
       "      <td>90001</td>\n",
       "    </tr>\n",
       "    <tr>\n",
       "      <th>4</th>\n",
       "      <td>141238</td>\n",
       "      <td>Wired Headphones</td>\n",
       "      <td>1</td>\n",
       "      <td>11.99</td>\n",
       "      <td>2021-01-25 11:59:00</td>\n",
       "      <td>387 10th St, Austin, TX 73301</td>\n",
       "      <td>Austin</td>\n",
       "      <td>TX</td>\n",
       "      <td>73301</td>\n",
       "    </tr>\n",
       "    <tr>\n",
       "      <th>...</th>\n",
       "      <td>...</td>\n",
       "      <td>...</td>\n",
       "      <td>...</td>\n",
       "      <td>...</td>\n",
       "      <td>...</td>\n",
       "      <td>...</td>\n",
       "      <td>...</td>\n",
       "      <td>...</td>\n",
       "      <td>...</td>\n",
       "    </tr>\n",
       "    <tr>\n",
       "      <th>25112</th>\n",
       "      <td>319666</td>\n",
       "      <td>Lightning Charging Cable</td>\n",
       "      <td>1</td>\n",
       "      <td>14.95</td>\n",
       "      <td>2021-12-11 20:58:00</td>\n",
       "      <td>14 Madison St, San Francisco, CA 94016</td>\n",
       "      <td>San Francisco</td>\n",
       "      <td>CA</td>\n",
       "      <td>94016</td>\n",
       "    </tr>\n",
       "    <tr>\n",
       "      <th>25113</th>\n",
       "      <td>319667</td>\n",
       "      <td>AA Batteries (4-pack)</td>\n",
       "      <td>2</td>\n",
       "      <td>3.84</td>\n",
       "      <td>2021-12-01 12:01:00</td>\n",
       "      <td>549 Willow St, Los Angeles, CA 90001</td>\n",
       "      <td>Los Angeles</td>\n",
       "      <td>CA</td>\n",
       "      <td>90001</td>\n",
       "    </tr>\n",
       "    <tr>\n",
       "      <th>25114</th>\n",
       "      <td>319668</td>\n",
       "      <td>Vareebadd Phone</td>\n",
       "      <td>1</td>\n",
       "      <td>400.00</td>\n",
       "      <td>2021-12-09 06:43:00</td>\n",
       "      <td>273 Wilson St, Seattle, WA 98101</td>\n",
       "      <td>Seattle</td>\n",
       "      <td>WA</td>\n",
       "      <td>98101</td>\n",
       "    </tr>\n",
       "    <tr>\n",
       "      <th>25115</th>\n",
       "      <td>319669</td>\n",
       "      <td>Wired Headphones</td>\n",
       "      <td>1</td>\n",
       "      <td>11.99</td>\n",
       "      <td>2021-12-03 10:39:00</td>\n",
       "      <td>778 River St, Dallas, TX 75001</td>\n",
       "      <td>Dallas</td>\n",
       "      <td>TX</td>\n",
       "      <td>75001</td>\n",
       "    </tr>\n",
       "    <tr>\n",
       "      <th>25116</th>\n",
       "      <td>319670</td>\n",
       "      <td>Bose SoundSport Headphones</td>\n",
       "      <td>1</td>\n",
       "      <td>99.99</td>\n",
       "      <td>2021-12-21 21:45:00</td>\n",
       "      <td>747 Chestnut St, Los Angeles, CA 90001</td>\n",
       "      <td>Los Angeles</td>\n",
       "      <td>CA</td>\n",
       "      <td>90001</td>\n",
       "    </tr>\n",
       "  </tbody>\n",
       "</table>\n",
       "<p>185687 rows × 9 columns</p>\n",
       "</div>"
      ],
      "text/plain": [
       "      Order ID                     Product Quantity Ordered Price Each  \\\n",
       "0       141234                      iPhone                1     700.00   \n",
       "1       141235    Lightning Charging Cable                1      14.95   \n",
       "2       141236            Wired Headphones                2      11.99   \n",
       "3       141237            27in FHD Monitor                1     149.99   \n",
       "4       141238            Wired Headphones                1      11.99   \n",
       "...        ...                         ...              ...        ...   \n",
       "25112   319666    Lightning Charging Cable                1      14.95   \n",
       "25113   319667       AA Batteries (4-pack)                2       3.84   \n",
       "25114   319668             Vareebadd Phone                1     400.00   \n",
       "25115   319669            Wired Headphones                1      11.99   \n",
       "25116   319670  Bose SoundSport Headphones                1      99.99   \n",
       "\n",
       "               Order Date                        Purchase Address  \\\n",
       "0     2021-01-22 21:25:00         944 Walnut St, Boston, MA 02215   \n",
       "1     2021-01-28 14:15:00        185 Maple St, Portland, OR 97035   \n",
       "2     2021-01-17 13:33:00   538 Adams St, San Francisco, CA 94016   \n",
       "3     2021-01-05 20:33:00      738 10th St, Los Angeles, CA 90001   \n",
       "4     2021-01-25 11:59:00           387 10th St, Austin, TX 73301   \n",
       "...                   ...                                     ...   \n",
       "25112 2021-12-11 20:58:00  14 Madison St, San Francisco, CA 94016   \n",
       "25113 2021-12-01 12:01:00    549 Willow St, Los Angeles, CA 90001   \n",
       "25114 2021-12-09 06:43:00        273 Wilson St, Seattle, WA 98101   \n",
       "25115 2021-12-03 10:39:00          778 River St, Dallas, TX 75001   \n",
       "25116 2021-12-21 21:45:00  747 Chestnut St, Los Angeles, CA 90001   \n",
       "\n",
       "                 City State Zip Code  \n",
       "0              Boston    MA    02215  \n",
       "1            Portland    OR    97035  \n",
       "2       San Francisco    CA    94016  \n",
       "3         Los Angeles    CA    90001  \n",
       "4              Austin    TX    73301  \n",
       "...               ...   ...      ...  \n",
       "25112   San Francisco    CA    94016  \n",
       "25113     Los Angeles    CA    90001  \n",
       "25114         Seattle    WA    98101  \n",
       "25115          Dallas    TX    75001  \n",
       "25116     Los Angeles    CA    90001  \n",
       "\n",
       "[185687 rows x 9 columns]"
      ]
     },
     "execution_count": 36,
     "metadata": {},
     "output_type": "execute_result"
    }
   ],
   "source": [
    "# Check adjustments to Order Date column\n",
    "\n",
    "sales_2019"
   ]
  },
  {
   "cell_type": "code",
   "execution_count": 37,
   "id": "9188453f",
   "metadata": {},
   "outputs": [],
   "source": [
    "# Remove row where error value found in Order ID column\n",
    "\n",
    "sales_2019.drop(sales_2019[sales_2019[\"Order ID\"] == \"Order ID\"].index, inplace=True)"
   ]
  },
  {
   "cell_type": "code",
   "execution_count": 38,
   "id": "d22b9223",
   "metadata": {
    "scrolled": true
   },
   "outputs": [
    {
     "data": {
      "text/html": [
       "<div>\n",
       "<style scoped>\n",
       "    .dataframe tbody tr th:only-of-type {\n",
       "        vertical-align: middle;\n",
       "    }\n",
       "\n",
       "    .dataframe tbody tr th {\n",
       "        vertical-align: top;\n",
       "    }\n",
       "\n",
       "    .dataframe thead th {\n",
       "        text-align: right;\n",
       "    }\n",
       "</style>\n",
       "<table border=\"1\" class=\"dataframe\">\n",
       "  <thead>\n",
       "    <tr style=\"text-align: right;\">\n",
       "      <th></th>\n",
       "      <th>Order ID</th>\n",
       "      <th>Product</th>\n",
       "      <th>Quantity Ordered</th>\n",
       "      <th>Price Each</th>\n",
       "      <th>Order Date</th>\n",
       "      <th>Purchase Address</th>\n",
       "      <th>City</th>\n",
       "      <th>State</th>\n",
       "      <th>Zip Code</th>\n",
       "    </tr>\n",
       "  </thead>\n",
       "  <tbody>\n",
       "  </tbody>\n",
       "</table>\n",
       "</div>"
      ],
      "text/plain": [
       "Empty DataFrame\n",
       "Columns: [Order ID, Product, Quantity Ordered, Price Each, Order Date, Purchase Address, City, State, Zip Code]\n",
       "Index: []"
      ]
     },
     "execution_count": 38,
     "metadata": {},
     "output_type": "execute_result"
    }
   ],
   "source": [
    "# Check if error value was correctly removed.\n",
    "\n",
    "sales_2019[sales_2019['Quantity Ordered'].str.contains(\"Quantity\")]"
   ]
  },
  {
   "cell_type": "code",
   "execution_count": 39,
   "id": "1f18ac5b",
   "metadata": {},
   "outputs": [
    {
     "data": {
      "text/plain": [
       "USB-C Charging Cable          21857\n",
       "Lightning Charging Cable      21609\n",
       "AAA Batteries (4-pack)        20610\n",
       "AA Batteries (4-pack)         20557\n",
       "Wired Headphones              18849\n",
       "Apple Airpods Headphones      15524\n",
       "Bose SoundSport Headphones    13298\n",
       "27in FHD Monitor               7497\n",
       "iPhone                         6840\n",
       "27in 4K Gaming Monitor         6225\n",
       "34in Ultrawide Monitor         6174\n",
       "Google Phone                   5521\n",
       "Flatscreen TV                  4794\n",
       "Macbook Pro Laptop             4720\n",
       "ThinkPad Laptop                4125\n",
       "20in Monitor                   4098\n",
       "Vareebadd Phone                2065\n",
       "LG Washing Machine              666\n",
       "LG Dryer                        646\n",
       "Name: Product, dtype: int64"
      ]
     },
     "execution_count": 39,
     "metadata": {},
     "output_type": "execute_result"
    }
   ],
   "source": [
    "# Check for any errors in Product columns\n",
    "\n",
    "sales_2019['Product'].value_counts()"
   ]
  },
  {
   "cell_type": "code",
   "execution_count": 40,
   "id": "e75ec567",
   "metadata": {},
   "outputs": [
    {
     "data": {
      "text/plain": [
       "1    168280\n",
       "2     13321\n",
       "3      2920\n",
       "4       806\n",
       "5       236\n",
       "6        80\n",
       "7        24\n",
       "8         5\n",
       "9         3\n",
       "Name: Quantity Ordered, dtype: int64"
      ]
     },
     "execution_count": 40,
     "metadata": {},
     "output_type": "execute_result"
    }
   ],
   "source": [
    "# Check for any errors in Quantity Ordered Column\n",
    "\n",
    "sales_2019['Quantity Ordered'].value_counts()"
   ]
  },
  {
   "cell_type": "code",
   "execution_count": 41,
   "id": "64b10f97",
   "metadata": {},
   "outputs": [
    {
     "data": {
      "text/plain": [
       "11.95      21857\n",
       "14.95      21609\n",
       "2.99       20610\n",
       "3.84       20557\n",
       "11.99      18849\n",
       "150.00     15524\n",
       "99.99      13298\n",
       "149.99      7497\n",
       "700.00      6840\n",
       "600.00      6833\n",
       "389.99      6225\n",
       "379.99      6174\n",
       "300.00      4794\n",
       "1700.00     4720\n",
       "999.99      4125\n",
       "109.99      4098\n",
       "400.00      2065\n",
       "Name: Price Each, dtype: int64"
      ]
     },
     "execution_count": 41,
     "metadata": {},
     "output_type": "execute_result"
    }
   ],
   "source": [
    "# Check for any errors in Price Each Column\n",
    "\n",
    "\n",
    "sales_2019['Price Each'].value_counts()"
   ]
  },
  {
   "cell_type": "code",
   "execution_count": 42,
   "id": "8e0109cb",
   "metadata": {},
   "outputs": [
    {
     "data": {
      "text/plain": [
       " San Francisco    44659\n",
       " Los Angeles      29564\n",
       " New York City    24847\n",
       " Boston           19901\n",
       " Atlanta          14862\n",
       " Dallas           14794\n",
       " Seattle          14712\n",
       " Portland         12448\n",
       " Austin            9888\n",
       "Name: City, dtype: int64"
      ]
     },
     "execution_count": 42,
     "metadata": {},
     "output_type": "execute_result"
    }
   ],
   "source": [
    "# Check for any errors in City Column\n",
    "\n",
    "\n",
    "sales_2019['City'].value_counts()"
   ]
  },
  {
   "cell_type": "code",
   "execution_count": 43,
   "id": "cdccb9ac",
   "metadata": {},
   "outputs": [
    {
     "data": {
      "text/plain": [
       "CA    74223\n",
       "NY    24847\n",
       "TX    24682\n",
       "MA    19901\n",
       "GA    14862\n",
       "WA    14712\n",
       "OR     9997\n",
       "ME     2451\n",
       "Name: State, dtype: int64"
      ]
     },
     "execution_count": 43,
     "metadata": {},
     "output_type": "execute_result"
    }
   ],
   "source": [
    "# Check for any errors in State Column\n",
    "\n",
    "\n",
    "sales_2019['State'].value_counts()"
   ]
  },
  {
   "cell_type": "code",
   "execution_count": 44,
   "id": "2be6c6db",
   "metadata": {},
   "outputs": [
    {
     "data": {
      "text/plain": [
       "94016    44659\n",
       "90001    29564\n",
       "10001    24847\n",
       "02215    19901\n",
       "30301    14862\n",
       "75001    14794\n",
       "98101    14712\n",
       "97035     9997\n",
       "73301     9888\n",
       "04101     2451\n",
       "Name: Zip Code, dtype: int64"
      ]
     },
     "execution_count": 44,
     "metadata": {},
     "output_type": "execute_result"
    }
   ],
   "source": [
    "# Check for any errors in Zip Code Column\n",
    "\n",
    "\n",
    "sales_2019['Zip Code'].value_counts()"
   ]
  },
  {
   "cell_type": "code",
   "execution_count": 45,
   "id": "3a270e27",
   "metadata": {},
   "outputs": [],
   "source": [
    "# Change data types of all columns through a dictionary paramenter pass.\n",
    "\n",
    "sales_2019 = sales_2019.astype({\"Order ID\": \"string\", \"Product\": \"string\", \"Quantity Ordered\": \"int32\",\n",
    "                               \"Price Each\": \"float64\", \"Purchase Address\": \"string\", \"City\":\"string\",\n",
    "                                \"State\":\"string\", \"Zip Code\": \"string\"})"
   ]
  },
  {
   "cell_type": "code",
   "execution_count": 46,
   "id": "dd7ac082",
   "metadata": {},
   "outputs": [
    {
     "data": {
      "text/plain": [
       "Order ID                    string\n",
       "Product                     string\n",
       "Quantity Ordered             int32\n",
       "Price Each                 float64\n",
       "Order Date          datetime64[ns]\n",
       "Purchase Address            string\n",
       "City                        string\n",
       "State                       string\n",
       "Zip Code                    string\n",
       "dtype: object"
      ]
     },
     "execution_count": 46,
     "metadata": {},
     "output_type": "execute_result"
    }
   ],
   "source": [
    "# Check accuracy of data type adjustments.\n",
    "\n",
    "sales_2019.dtypes"
   ]
  },
  {
   "cell_type": "code",
   "execution_count": 47,
   "id": "453fa614",
   "metadata": {},
   "outputs": [
    {
     "data": {
      "text/html": [
       "<div>\n",
       "<style scoped>\n",
       "    .dataframe tbody tr th:only-of-type {\n",
       "        vertical-align: middle;\n",
       "    }\n",
       "\n",
       "    .dataframe tbody tr th {\n",
       "        vertical-align: top;\n",
       "    }\n",
       "\n",
       "    .dataframe thead th {\n",
       "        text-align: right;\n",
       "    }\n",
       "</style>\n",
       "<table border=\"1\" class=\"dataframe\">\n",
       "  <thead>\n",
       "    <tr style=\"text-align: right;\">\n",
       "      <th></th>\n",
       "      <th>Order ID</th>\n",
       "      <th>Product</th>\n",
       "      <th>Quantity Ordered</th>\n",
       "      <th>Price Each</th>\n",
       "      <th>Order Date</th>\n",
       "      <th>Purchase Address</th>\n",
       "      <th>City</th>\n",
       "      <th>State</th>\n",
       "      <th>Zip Code</th>\n",
       "    </tr>\n",
       "  </thead>\n",
       "  <tbody>\n",
       "    <tr>\n",
       "      <th>0</th>\n",
       "      <td>141234</td>\n",
       "      <td>iPhone</td>\n",
       "      <td>1</td>\n",
       "      <td>700.00</td>\n",
       "      <td>2021-01-22 21:25:00</td>\n",
       "      <td>944 Walnut St, Boston, MA 02215</td>\n",
       "      <td>Boston</td>\n",
       "      <td>MA</td>\n",
       "      <td>02215</td>\n",
       "    </tr>\n",
       "    <tr>\n",
       "      <th>1</th>\n",
       "      <td>141235</td>\n",
       "      <td>Lightning Charging Cable</td>\n",
       "      <td>1</td>\n",
       "      <td>14.95</td>\n",
       "      <td>2021-01-28 14:15:00</td>\n",
       "      <td>185 Maple St, Portland, OR 97035</td>\n",
       "      <td>Portland</td>\n",
       "      <td>OR</td>\n",
       "      <td>97035</td>\n",
       "    </tr>\n",
       "    <tr>\n",
       "      <th>2</th>\n",
       "      <td>141236</td>\n",
       "      <td>Wired Headphones</td>\n",
       "      <td>2</td>\n",
       "      <td>11.99</td>\n",
       "      <td>2021-01-17 13:33:00</td>\n",
       "      <td>538 Adams St, San Francisco, CA 94016</td>\n",
       "      <td>San Francisco</td>\n",
       "      <td>CA</td>\n",
       "      <td>94016</td>\n",
       "    </tr>\n",
       "    <tr>\n",
       "      <th>3</th>\n",
       "      <td>141237</td>\n",
       "      <td>27in FHD Monitor</td>\n",
       "      <td>1</td>\n",
       "      <td>149.99</td>\n",
       "      <td>2021-01-05 20:33:00</td>\n",
       "      <td>738 10th St, Los Angeles, CA 90001</td>\n",
       "      <td>Los Angeles</td>\n",
       "      <td>CA</td>\n",
       "      <td>90001</td>\n",
       "    </tr>\n",
       "    <tr>\n",
       "      <th>4</th>\n",
       "      <td>141238</td>\n",
       "      <td>Wired Headphones</td>\n",
       "      <td>1</td>\n",
       "      <td>11.99</td>\n",
       "      <td>2021-01-25 11:59:00</td>\n",
       "      <td>387 10th St, Austin, TX 73301</td>\n",
       "      <td>Austin</td>\n",
       "      <td>TX</td>\n",
       "      <td>73301</td>\n",
       "    </tr>\n",
       "    <tr>\n",
       "      <th>5</th>\n",
       "      <td>141239</td>\n",
       "      <td>AAA Batteries (4-pack)</td>\n",
       "      <td>1</td>\n",
       "      <td>2.99</td>\n",
       "      <td>2021-01-29 20:22:00</td>\n",
       "      <td>775 Willow St, San Francisco, CA 94016</td>\n",
       "      <td>San Francisco</td>\n",
       "      <td>CA</td>\n",
       "      <td>94016</td>\n",
       "    </tr>\n",
       "    <tr>\n",
       "      <th>6</th>\n",
       "      <td>141240</td>\n",
       "      <td>27in 4K Gaming Monitor</td>\n",
       "      <td>1</td>\n",
       "      <td>389.99</td>\n",
       "      <td>2021-01-26 12:16:00</td>\n",
       "      <td>979 Park St, Los Angeles, CA 90001</td>\n",
       "      <td>Los Angeles</td>\n",
       "      <td>CA</td>\n",
       "      <td>90001</td>\n",
       "    </tr>\n",
       "    <tr>\n",
       "      <th>7</th>\n",
       "      <td>141241</td>\n",
       "      <td>USB-C Charging Cable</td>\n",
       "      <td>1</td>\n",
       "      <td>11.95</td>\n",
       "      <td>2021-01-05 12:04:00</td>\n",
       "      <td>181 6th St, San Francisco, CA 94016</td>\n",
       "      <td>San Francisco</td>\n",
       "      <td>CA</td>\n",
       "      <td>94016</td>\n",
       "    </tr>\n",
       "    <tr>\n",
       "      <th>8</th>\n",
       "      <td>141242</td>\n",
       "      <td>Bose SoundSport Headphones</td>\n",
       "      <td>1</td>\n",
       "      <td>99.99</td>\n",
       "      <td>2021-01-01 10:30:00</td>\n",
       "      <td>867 Willow St, Los Angeles, CA 90001</td>\n",
       "      <td>Los Angeles</td>\n",
       "      <td>CA</td>\n",
       "      <td>90001</td>\n",
       "    </tr>\n",
       "    <tr>\n",
       "      <th>9</th>\n",
       "      <td>141243</td>\n",
       "      <td>Apple Airpods Headphones</td>\n",
       "      <td>1</td>\n",
       "      <td>150.00</td>\n",
       "      <td>2021-01-22 21:20:00</td>\n",
       "      <td>657 Johnson St, San Francisco, CA 94016</td>\n",
       "      <td>San Francisco</td>\n",
       "      <td>CA</td>\n",
       "      <td>94016</td>\n",
       "    </tr>\n",
       "  </tbody>\n",
       "</table>\n",
       "</div>"
      ],
      "text/plain": [
       "  Order ID                     Product  Quantity Ordered  Price Each  \\\n",
       "0   141234                      iPhone                 1      700.00   \n",
       "1   141235    Lightning Charging Cable                 1       14.95   \n",
       "2   141236            Wired Headphones                 2       11.99   \n",
       "3   141237            27in FHD Monitor                 1      149.99   \n",
       "4   141238            Wired Headphones                 1       11.99   \n",
       "5   141239      AAA Batteries (4-pack)                 1        2.99   \n",
       "6   141240      27in 4K Gaming Monitor                 1      389.99   \n",
       "7   141241        USB-C Charging Cable                 1       11.95   \n",
       "8   141242  Bose SoundSport Headphones                 1       99.99   \n",
       "9   141243    Apple Airpods Headphones                 1      150.00   \n",
       "\n",
       "           Order Date                         Purchase Address  \\\n",
       "0 2021-01-22 21:25:00          944 Walnut St, Boston, MA 02215   \n",
       "1 2021-01-28 14:15:00         185 Maple St, Portland, OR 97035   \n",
       "2 2021-01-17 13:33:00    538 Adams St, San Francisco, CA 94016   \n",
       "3 2021-01-05 20:33:00       738 10th St, Los Angeles, CA 90001   \n",
       "4 2021-01-25 11:59:00            387 10th St, Austin, TX 73301   \n",
       "5 2021-01-29 20:22:00   775 Willow St, San Francisco, CA 94016   \n",
       "6 2021-01-26 12:16:00       979 Park St, Los Angeles, CA 90001   \n",
       "7 2021-01-05 12:04:00      181 6th St, San Francisco, CA 94016   \n",
       "8 2021-01-01 10:30:00     867 Willow St, Los Angeles, CA 90001   \n",
       "9 2021-01-22 21:20:00  657 Johnson St, San Francisco, CA 94016   \n",
       "\n",
       "             City State Zip Code  \n",
       "0          Boston    MA    02215  \n",
       "1        Portland    OR    97035  \n",
       "2   San Francisco    CA    94016  \n",
       "3     Los Angeles    CA    90001  \n",
       "4          Austin    TX    73301  \n",
       "5   San Francisco    CA    94016  \n",
       "6     Los Angeles    CA    90001  \n",
       "7   San Francisco    CA    94016  \n",
       "8     Los Angeles    CA    90001  \n",
       "9   San Francisco    CA    94016  "
      ]
     },
     "execution_count": 47,
     "metadata": {},
     "output_type": "execute_result"
    }
   ],
   "source": [
    "# Final check on data set.\n",
    "\n",
    "sales_2019.head(10)"
   ]
  },
  {
   "cell_type": "code",
   "execution_count": 48,
   "id": "3d3c6b21",
   "metadata": {},
   "outputs": [],
   "source": [
    "# save a copy of the sales 2021 data set as .csv\n",
    "\n",
    "sales_2019.to_csv(r\"C:\\Users\\yanri\\OneDrive\\Desktop\\Sales Project\\Amazon_Sales_2019.csv\", encoding='utf-8', index=False)"
   ]
  },
  {
   "cell_type": "code",
   "execution_count": 49,
   "id": "9f273790",
   "metadata": {},
   "outputs": [],
   "source": [
    "## This is a list of the changes made.\n",
    "## Changelog\n",
    "\n",
    "# Concatentate Monthly Datasets into one Year dataset\n",
    "    # Calculate total rows and columns that exist from all data sets\n",
    "    # Concatentate datasets and then compare rows/columns to check accuracy of concat.\n",
    "    \n",
    "# Clean data set.\n",
    "    # Clear whitespace from values\n",
    "    # Check how many missing values\n",
    "    # Check for duplicates\n",
    "    # Check accuracy of column values\n",
    "        # Price Each column has inconsistent values. Make changes.\n",
    "    # Separate Purchase Address into multiple new columns\n",
    "        # Create new Pruchase Address column\n",
    "        # Create new City column\n",
    "        # Create new State column\n",
    "        # Create new Zip Code column\n",
    "        \n",
    "# Change columns to be accurate data types\n",
    "    # Order ID - String\n",
    "    # Product ID - String\n",
    "    # Quantity Ordered - Integer\n",
    "        # Quantity Order that had a bad value existed: Removed*\n",
    "    # Price Each - Float\n",
    "    # Order Date - DateTime\n",
    "    # Purchase Address - String\n",
    "    # City - String\n",
    "    # State - String\n",
    "    # Zip Code - String\n",
    "    \n",
    "# Anything else?"
   ]
  }
 ],
 "metadata": {
  "kernelspec": {
   "display_name": "Python 3 (ipykernel)",
   "language": "python",
   "name": "python3"
  },
  "language_info": {
   "codemirror_mode": {
    "name": "ipython",
    "version": 3
   },
   "file_extension": ".py",
   "mimetype": "text/x-python",
   "name": "python",
   "nbconvert_exporter": "python",
   "pygments_lexer": "ipython3",
   "version": "3.9.12"
  }
 },
 "nbformat": 4,
 "nbformat_minor": 5
}
